{
 "cells": [
  {
   "attachments": {},
   "cell_type": "markdown",
   "metadata": {},
   "source": [
    "# Example notebook on how to extract a source from the database and save it in another format"
   ]
  },
  {
   "cell_type": "code",
   "execution_count": 1,
   "metadata": {},
   "outputs": [],
   "source": [
    "import os\n",
    "\n",
    "from buster.documents import get_documents_manager_from_extension"
   ]
  },
  {
   "cell_type": "code",
   "execution_count": 2,
   "metadata": {},
   "outputs": [],
   "source": [
    "# Path to the database\n",
    "db_path = \"documents.db\"\n",
    "db = get_documents_manager_from_extension(db_path)(db_path)\n",
    "\n",
    "# Source to extract\n",
    "target = \"lightning\"\n",
    "df = db.get_documents(target)\n",
    "\n",
    "# If you want to save it as tar.gz\n",
    "filepath = os.path.join('buster/data/', f'document_embeddings_{target}.tar.gz')\n",
    "db_df = get_documents_manager_from_extension(filepath)(filepath)\n",
    "db_df.add(target, df)"
   ]
  },
  {
   "cell_type": "code",
   "execution_count": null,
   "metadata": {},
   "outputs": [],
   "source": []
  }
 ],
 "metadata": {
  "kernelspec": {
   "display_name": "milabot",
   "language": "python",
   "name": "python3"
  },
  "language_info": {
   "codemirror_mode": {
    "name": "ipython",
    "version": 3
   },
   "file_extension": ".py",
   "mimetype": "text/x-python",
   "name": "python",
   "nbconvert_exporter": "python",
   "pygments_lexer": "ipython3",
   "version": "3.10.9"
  },
  "orig_nbformat": 4,
  "vscode": {
   "interpreter": {
    "hash": "9db6f4b791ef587fd310257e87896b12053c9010399595f881592a25a8a29679"
   }
  }
 },
 "nbformat": 4,
 "nbformat_minor": 2
}
